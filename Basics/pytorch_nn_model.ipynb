{
  "nbformat": 4,
  "nbformat_minor": 0,
  "metadata": {
    "colab": {
      "provenance": [],
      "authorship_tag": "ABX9TyO5PRE2/oE1mhks6zxpZXrq",
      "include_colab_link": true
    },
    "kernelspec": {
      "name": "python3",
      "display_name": "Python 3"
    },
    "language_info": {
      "name": "python"
    }
  },
  "cells": [
    {
      "cell_type": "markdown",
      "metadata": {
        "id": "view-in-github",
        "colab_type": "text"
      },
      "source": [
        "<a href=\"https://colab.research.google.com/github/officialkalpesh3170/PyTorch/blob/main/Basics/pytorch_nn_model.ipynb\" target=\"_parent\"><img src=\"https://colab.research.google.com/assets/colab-badge.svg\" alt=\"Open In Colab\"/></a>"
      ]
    },
    {
      "cell_type": "code",
      "execution_count": 16,
      "metadata": {
        "id": "UAkawY0HyJX_"
      },
      "outputs": [],
      "source": [
        "# importing function\n",
        "\n",
        "import torch\n",
        "import numpy as np\n",
        "import pandas as pd\n",
        "import torch.nn as nn\n",
        "\n",
        "#model building\n",
        "#sequential\n",
        "\n",
        "class Model(nn.Module):\n",
        "\n",
        "  def __init__(self,num_feature):\n",
        "\n",
        "    super().__init__()\n",
        "    self.network= nn.Sequential(\n",
        "        nn.Linear(num_feature,3),\n",
        "        nn.ReLU(),\n",
        "        nn.Linear(3,1),\n",
        "        nn.Sigmoid()\n",
        "    )\n",
        "\n",
        "\n",
        "  def forward(self,feature):\n",
        "\n",
        "    return self.network(feature)\n",
        "\n"
      ]
    },
    {
      "cell_type": "code",
      "source": [
        "#create dataset\n",
        "feature =torch.rand(10,5)\n",
        "\n",
        "\n",
        "# create model\n",
        "\n",
        "model=Model(feature.shape[1])\n",
        "\n",
        "# feedforward\n",
        "model(feature)"
      ],
      "metadata": {
        "colab": {
          "base_uri": "https://localhost:8080/"
        },
        "id": "Zswiz7ZO1W_0",
        "outputId": "8d026ce2-cdc8-4281-a79a-2dcee3f4492a"
      },
      "execution_count": 17,
      "outputs": [
        {
          "output_type": "execute_result",
          "data": {
            "text/plain": [
              "tensor([[0.4738],\n",
              "        [0.4706],\n",
              "        [0.4601],\n",
              "        [0.4682],\n",
              "        [0.4632],\n",
              "        [0.4708],\n",
              "        [0.4536],\n",
              "        [0.4989],\n",
              "        [0.4676],\n",
              "        [0.4771]], grad_fn=<SigmoidBackward0>)"
            ]
          },
          "metadata": {},
          "execution_count": 17
        }
      ]
    },
    {
      "cell_type": "code",
      "source": [],
      "metadata": {
        "id": "P8tRmQZD1uBh"
      },
      "execution_count": null,
      "outputs": []
    }
  ]
}