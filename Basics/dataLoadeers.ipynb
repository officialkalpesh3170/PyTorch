{
  "nbformat": 4,
  "nbformat_minor": 0,
  "metadata": {
    "colab": {
      "provenance": [],
      "authorship_tag": "ABX9TyM4wXze5qsYt4LLcqN1+qlK",
      "include_colab_link": true
    },
    "kernelspec": {
      "name": "python3",
      "display_name": "Python 3"
    },
    "language_info": {
      "name": "python"
    }
  },
  "cells": [
    {
      "cell_type": "markdown",
      "metadata": {
        "id": "view-in-github",
        "colab_type": "text"
      },
      "source": [
        "<a href=\"https://colab.research.google.com/github/officialkalpesh3170/PyTorch/blob/main/Basics/dataLoadeers.ipynb\" target=\"_parent\"><img src=\"https://colab.research.google.com/assets/colab-badge.svg\" alt=\"Open In Colab\"/></a>"
      ]
    },
    {
      "cell_type": "code",
      "execution_count": 1,
      "metadata": {
        "id": "Q8IW0kL5z3yB"
      },
      "outputs": [],
      "source": [
        "#importing function\n",
        "\n",
        "from sklearn.datasets import make_classification\n",
        "import torch"
      ]
    },
    {
      "cell_type": "code",
      "source": [
        "X,y=make_classification(n_samples=10,n_features=2,n_informative=2,n_redundant=0,n_classes=2,random_state=42)"
      ],
      "metadata": {
        "id": "yAG2b3yR0OgB"
      },
      "execution_count": 3,
      "outputs": []
    },
    {
      "cell_type": "code",
      "source": [
        "X.shape"
      ],
      "metadata": {
        "colab": {
          "base_uri": "https://localhost:8080/"
        },
        "id": "iKSaWWC00Zp4",
        "outputId": "69809cc4-834b-417f-ee79-eb6a8c1809d8"
      },
      "execution_count": 5,
      "outputs": [
        {
          "output_type": "execute_result",
          "data": {
            "text/plain": [
              "(10, 2)"
            ]
          },
          "metadata": {},
          "execution_count": 5
        }
      ]
    },
    {
      "cell_type": "code",
      "source": [
        "#converting the DataFramee to tensors\n",
        "\n",
        "X=torch.tensor(X,dtype=torch.float32)\n",
        "y=torch.tensor(y,dtype=torch.long)"
      ],
      "metadata": {
        "id": "JQJEBmpe0jtr"
      },
      "execution_count": 6,
      "outputs": []
    },
    {
      "cell_type": "code",
      "source": [
        "X"
      ],
      "metadata": {
        "colab": {
          "base_uri": "https://localhost:8080/"
        },
        "id": "RBpJOSgg05V8",
        "outputId": "6c07527e-bdd9-4eef-ae51-5e8f97419c4f"
      },
      "execution_count": 7,
      "outputs": [
        {
          "output_type": "execute_result",
          "data": {
            "text/plain": [
              "tensor([[ 1.0683, -0.9701],\n",
              "        [-1.1402, -0.8388],\n",
              "        [-2.8954,  1.9769],\n",
              "        [-0.7206, -0.9606],\n",
              "        [-1.9629, -0.9923],\n",
              "        [-0.9382, -0.5430],\n",
              "        [ 1.7273, -1.1858],\n",
              "        [ 1.7774,  1.5116],\n",
              "        [ 1.8997,  0.8344],\n",
              "        [-0.5872, -1.9717]])"
            ]
          },
          "metadata": {},
          "execution_count": 7
        }
      ]
    },
    {
      "cell_type": "code",
      "source": [
        "from torch.utils.data import Dataset,DataLoader"
      ],
      "metadata": {
        "id": "I1s1qhib05_0"
      },
      "execution_count": 8,
      "outputs": []
    },
    {
      "cell_type": "code",
      "source": [
        "#create class\n",
        "class CustomDataset(Dataset):\n",
        "   def __init__(self,x,y):\n",
        "    self.features=X\n",
        "    self.lables=y\n",
        "\n",
        "   def __len__(self):\n",
        "\n",
        "    return self.features.shape[0]\n",
        "\n",
        "   def __getitem__(self,index):\n",
        "\n",
        "    return self.features[index],self.lables[index]\n",
        "\n",
        "\n"
      ],
      "metadata": {
        "id": "utdPFjrZ1Exm"
      },
      "execution_count": 9,
      "outputs": []
    },
    {
      "cell_type": "code",
      "source": [
        "dataset =CustomDataset(X,y)"
      ],
      "metadata": {
        "id": "TtkY8M2b2J2E"
      },
      "execution_count": 10,
      "outputs": []
    },
    {
      "cell_type": "code",
      "source": [
        "len(dataset)"
      ],
      "metadata": {
        "colab": {
          "base_uri": "https://localhost:8080/"
        },
        "id": "-gntZZ1S2N8U",
        "outputId": "acfcfd6c-1962-4153-f77d-8e269c24f6f3"
      },
      "execution_count": 11,
      "outputs": [
        {
          "output_type": "execute_result",
          "data": {
            "text/plain": [
              "10"
            ]
          },
          "metadata": {},
          "execution_count": 11
        }
      ]
    },
    {
      "cell_type": "code",
      "source": [
        "dataloader=DataLoader(dataset,batch_size=2,shuffle=True,num_workers=10)"
      ],
      "metadata": {
        "colab": {
          "base_uri": "https://localhost:8080/"
        },
        "id": "lIKIkhi-2RzZ",
        "outputId": "78fac2af-38de-4489-d144-0468d3d6e273"
      },
      "execution_count": 15,
      "outputs": [
        {
          "output_type": "stream",
          "name": "stderr",
          "text": [
            "/usr/local/lib/python3.11/dist-packages/torch/utils/data/dataloader.py:624: UserWarning: This DataLoader will create 10 worker processes in total. Our suggested max number of worker in current system is 2, which is smaller than what this DataLoader is going to create. Please be aware that excessive worker creation might get DataLoader running slow or even freeze, lower the worker number to avoid potential slowness/freeze if necessary.\n",
            "  warnings.warn(\n"
          ]
        }
      ]
    },
    {
      "cell_type": "code",
      "source": [
        "for i ,y in dataloader:\n",
        "  print(i)\n",
        "  print(y)"
      ],
      "metadata": {
        "colab": {
          "base_uri": "https://localhost:8080/"
        },
        "id": "aZHEH0Mn2m_l",
        "outputId": "ba752309-765c-4289-c994-e02b4d1b6304"
      },
      "execution_count": 16,
      "outputs": [
        {
          "output_type": "stream",
          "name": "stderr",
          "text": [
            "/usr/local/lib/python3.11/dist-packages/torch/utils/data/dataloader.py:624: UserWarning: This DataLoader will create 10 worker processes in total. Our suggested max number of worker in current system is 2, which is smaller than what this DataLoader is going to create. Please be aware that excessive worker creation might get DataLoader running slow or even freeze, lower the worker number to avoid potential slowness/freeze if necessary.\n",
            "  warnings.warn(\n"
          ]
        },
        {
          "output_type": "stream",
          "name": "stdout",
          "text": [
            "tensor([[ 1.7774,  1.5116],\n",
            "        [-0.7206, -0.9606]])\n",
            "tensor([1, 0])\n",
            "tensor([[-1.1402, -0.8388],\n",
            "        [-1.9629, -0.9923]])\n",
            "tensor([0, 0])\n",
            "tensor([[ 1.0683, -0.9701],\n",
            "        [ 1.8997,  0.8344]])\n",
            "tensor([1, 1])\n",
            "tensor([[ 1.7273, -1.1858],\n",
            "        [-0.5872, -1.9717]])\n",
            "tensor([1, 0])\n",
            "tensor([[-2.8954,  1.9769],\n",
            "        [-0.9382, -0.5430]])\n",
            "tensor([0, 1])\n"
          ]
        }
      ]
    },
    {
      "cell_type": "code",
      "source": [],
      "metadata": {
        "id": "XlRhm9Nd25bJ"
      },
      "execution_count": null,
      "outputs": []
    }
  ]
}